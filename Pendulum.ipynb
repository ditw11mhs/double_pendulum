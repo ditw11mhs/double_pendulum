{
 "cells": [
  {
   "cell_type": "code",
   "execution_count": 1,
   "source": [
    "import numpy as np\r\n",
    "import matplotlib.pyplot as plt\r\n",
    "from matplotlib.animation import FuncAnimation"
   ],
   "outputs": [],
   "metadata": {}
  },
  {
   "cell_type": "markdown",
   "source": [
    "## Inisialisasi Data"
   ],
   "metadata": {}
  },
  {
   "cell_type": "code",
   "execution_count": 95,
   "source": [
    "m1 = float(input(\"Massa Pendulum 1: \"))\r\n",
    "m2 = float(input(\"Massa Pendulum 2: \"))\r\n",
    "L1 = float(input(\"Panjang Tali 1: \"))\r\n",
    "L2 = float(input(\"Panjang Tali 2: \"))\r\n",
    "teta1 = float(input(\"Sudut Pendulum 1: \"))\r\n",
    "teta2 = float(input(\"Sudut Pendulum 2: \"))\r\n",
    "dt = float(input(\"Step Size: \"))\r\n",
    "teta= np.array([[teta1*np.pi/180],[teta2*np.pi/180]])\r\n",
    "tetadot = np.array([[0], [0]])\r\n",
    "# print(m1,m2,L1,L2,teta1,teta2,dt,teta,tetadot)\r\n"
   ],
   "outputs": [],
   "metadata": {}
  },
  {
   "cell_type": "markdown",
   "source": [
    "## Kalkulasi Inersia"
   ],
   "metadata": {}
  },
  {
   "cell_type": "code",
   "execution_count": 17,
   "source": [
    "i1 = m1*(L1**2)\r\n",
    "i2 = m2*(L2**2)\r\n",
    "# print(i1,i2)"
   ],
   "outputs": [
    {
     "output_type": "stream",
     "name": "stdout",
     "text": [
      "9.0 32.0\n"
     ]
    }
   ],
   "metadata": {}
  },
  {
   "cell_type": "markdown",
   "source": [
    "## Posisi Garis dan Pendulum"
   ],
   "metadata": {}
  },
  {
   "cell_type": "code",
   "execution_count": 81,
   "source": [
    "def pos():\r\n",
    "    global L1, L2, teta\r\n",
    "    pos_garis = np.array([[0, 0],\r\n",
    "                          [L1*np.sin(teta[0, 0]), (-L1*np.cos(teta[0, 0]))],\r\n",
    "                          [L1*np.sin(teta[0, 0])+L2*np.sin(teta[1, 0]), -(L1*np.cos(teta[0, 0])+L2*np.cos(teta[1, 0]))]])\r\n",
    "    pos_massa = np.array([[1/2*L1*np.sin(teta[0, 0]), -1/2*L1*np.cos(teta[0, 0])], [L1*np.sin(\r\n",
    "        teta[0, 0])+1/2*L2*np.sin(teta[1, 0]), -(L1*np.cos(teta[0, 0])+1/2*L2*np.cos(teta[1, 0]))]])\r\n",
    "    # print(pos_garis)\r\n",
    "    # print(pos_massa)\r\n",
    "    return pos_garis, pos_massa\r\n"
   ],
   "outputs": [],
   "metadata": {}
  },
  {
   "cell_type": "markdown",
   "source": [
    "## Fungsi Pendulum"
   ],
   "metadata": {}
  },
  {
   "cell_type": "code",
   "execution_count": 73,
   "source": [
    "def inverse(m):\r\n",
    "    determinant = m[0][0]*m[1][1]-m[0][1]*m[1][0]\r\n",
    "    # special case for 2x2 matrix:\r\n",
    "    return np.array([[m[1][1], -1*m[0][1]],\r\n",
    "                     [-1*m[1][0], m[0][0]]])/determinant\r\n",
    "\r\n",
    "\r\n",
    "def pendulum(teta,tetadot):\r\n",
    "    global m1, m2, L1, L2, i1, i2\r\n",
    "    g = 9.8\r\n",
    "    tau = np.array([[0], [0]])\r\n",
    "    M = np.array([[((m1/4)+m2)*(L1**2)+i1, m2*L1*L2*np.cos(teta[0,0]-teta[1,0])/2],\r\n",
    "                 [m2*L1*L2*np.cos(teta[0,0]-teta[1,0])/2, m2*(L2**2)/4+i2]])\r\n",
    "    # print(\"M\")\r\n",
    "    # print(M)\r\n",
    "    Minv = inverse(M)\r\n",
    "    # print(\"Minv\")\r\n",
    "    # print(Minv)\r\n",
    "    matrix1 = np.dot(Minv, tau)\r\n",
    "    # print(matrix1)\r\n",
    "    # print(matrix1.shape)\r\n",
    "\r\n",
    "    C = np.array([[m2*L1*L2*np.sin(teta[0,0]-teta[1,0])*tetadot[1,0]/2, -1*m2*L1*L2*np.sin(teta[0,0]-teta[1,0])*(tetadot[0,0]-tetadot[1,0])/2],\r\n",
    "                 [-1*m2*L1*L2*np.sin(teta[0,0]-teta[1,0])*(tetadot[0,0]-tetadot[1,0])/2, -1*m2*L1*L2*np.sin(teta[0,0]-teta[1,0])*tetadot[0,0]/2]])\r\n",
    "    # print(\"C\")\r\n",
    "    # print(C)\r\n",
    "    A = np.dot(Minv, C)\r\n",
    "    # print(\"A\")\r\n",
    "    # print(A)\r\n",
    "    matrix2 = np.dot(A, tetadot)\r\n",
    "    # print(\"matrix2\")\r\n",
    "    # print(matrix2)\r\n",
    "    # print(matrix2.shape)\r\n",
    "\r\n",
    "    G = np.array([[((m1/2)+m2)*g*L1*np.sin(teta[0,0])],\r\n",
    "                  [m2*g*L2*np.sin(teta[1,0])/2]])\r\n",
    "    # print(\"G\")\r\n",
    "    # print(G)\r\n",
    "    matrix3 = np.dot(Minv, G)\r\n",
    "    # print(\"matrix3\")\r\n",
    "    # print(matrix3)\r\n",
    "    # print(matrix3.shape)\r\n",
    "\r\n",
    "    return matrix1-matrix2-matrix3\r\n"
   ],
   "outputs": [],
   "metadata": {}
  },
  {
   "cell_type": "markdown",
   "source": [
    "## Fungsi Runge Kutta"
   ],
   "metadata": {}
  },
  {
   "cell_type": "code",
   "execution_count": 74,
   "source": [
    "def rungekuttaupdate(step):\r\n",
    "    global teta, tetadot\r\n",
    "    tetadotdot = pendulum(teta, tetadot)\r\n",
    "    # print(tetadotdot)\r\n",
    "    # print(\"k1\")\r\n",
    "    k1 = step/2*tetadotdot\r\n",
    "    # print(k1)\r\n",
    "    # print(\"k2\")\r\n",
    "    k2 = step/2*pendulum(teta+(step/2)*(tetadot+k1/2), tetadot+k1)\r\n",
    "    # print(k2)\r\n",
    "    # print(\"k3\")\r\n",
    "    k3 = step/2*pendulum(teta+(step/2)*(tetadot+k1/2), tetadot+k2)\r\n",
    "    # print(k3)\r\n",
    "    # print(\"k4\")\r\n",
    "    k4 = step/2*pendulum(teta+step*(tetadot+k3), tetadot+2*k3)\r\n",
    "    # print(k4)\r\n",
    "    teta = teta + step*(tetadot+(k1+k2+k3)/3)\r\n",
    "    tetadot = tetadot + (k1+(2*k2)+(2*k3)+k4)/3\r\n"
   ],
   "outputs": [],
   "metadata": {}
  },
  {
   "cell_type": "markdown",
   "source": [
    "## Animasi"
   ],
   "metadata": {}
  },
  {
   "cell_type": "code",
   "execution_count": 97,
   "source": [
    "%matplotlib\r\n",
    "fig = plt.figure(figsize=(10, 10), constrained_layout=True)\r\n",
    "gs = fig.add_gridspec(4, 6)\r\n",
    "ax_pendulum = fig.add_subplot(gs[:, :3])\r\n",
    "ax_teta1 = fig.add_subplot(gs[0, 3:])\r\n",
    "ax_teta2 = fig.add_subplot(gs[1, 3:])\r\n",
    "ax_tetadot1 = fig.add_subplot(gs[2, 3:])\r\n",
    "ax_tetadot2 = fig.add_subplot(gs[3, 3:])\r\n",
    "\r\n",
    "pos_garis, pos_massa = pos()\r\n",
    "m_plot, = ax_pendulum.plot(pos_massa[:, 0], pos_massa[:, 1], 'bo')\r\n",
    "lin_plot, = ax_pendulum.plot(pos_garis[:, 0], pos_garis[:, 1], '-')\r\n",
    "\r\n",
    "\r\n",
    "def init():\r\n",
    "    global L1, L2\r\n",
    "    ax_pendulum.set_xlim(-(L1+L2+0.1), (L1+L2+0.1))\r\n",
    "    ax_pendulum.set_ylim(-(L1+L2+0.1), (L1+L2+0.1))\r\n",
    "    return m_plot,\r\n",
    "\r\n",
    "def plotanimation(step):\r\n",
    "    rungekuttaupdate(step)\r\n",
    "    pos_garis, pos_massa = pos()\r\n",
    "    # print(pos_massa)\r\n",
    "    # print(\"1\")\r\n",
    "    m_plot.set_data(pos_massa[:, 0], pos_massa[:, 1])\r\n",
    "    lin_plot.set_data(pos_garis[:, 0], pos_garis[:, 1])\r\n",
    "    return m_plot,lin_plot,\r\n",
    "\r\n",
    "ani = FuncAnimation(fig, plotanimation, frames=np.arange(\r\n",
    "    0, 2, dt), init_func=init, blit=True)\r\n",
    "\r\n",
    "plt.show\r\n"
   ],
   "outputs": [
    {
     "output_type": "stream",
     "name": "stdout",
     "text": [
      "Using matplotlib backend: Qt5Agg\n"
     ]
    },
    {
     "output_type": "execute_result",
     "data": {
      "text/plain": [
       "<function matplotlib.pyplot.show(*, block=None)>"
      ]
     },
     "metadata": {},
     "execution_count": 97
    }
   ],
   "metadata": {}
  },
  {
   "cell_type": "code",
   "execution_count": null,
   "source": [],
   "outputs": [],
   "metadata": {}
  }
 ],
 "metadata": {
  "orig_nbformat": 4,
  "language_info": {
   "name": "python"
  }
 },
 "nbformat": 4,
 "nbformat_minor": 2
}