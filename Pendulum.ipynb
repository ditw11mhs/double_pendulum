{
 "cells": [
  {
   "cell_type": "code",
   "execution_count": 9,
   "source": [
    "import numpy as np\r\n",
    "import matplotlib.pyplot as plt"
   ],
   "outputs": [],
   "metadata": {}
  },
  {
   "cell_type": "markdown",
   "source": [
    "## Inisialisasi Data"
   ],
   "metadata": {}
  },
  {
   "cell_type": "code",
   "execution_count": 29,
   "source": [
    "m1 = float(input(\"Massa Pendulum 1: \"))\r\n",
    "m2 = float(input(\"Massa Pendulum 2: \"))\r\n",
    "L1 = float(input(\"Panjang Tali 1: \"))\r\n",
    "L2 = float(input(\"Panjang Tali 2: \"))\r\n",
    "teta1 = float(input(\"Sudut Pendulum 1: \"))\r\n",
    "teta2 = float(input(\"Sudut Pendulum 2: \"))\r\n",
    "dt = float(input(\"Step Size: \"))\r\n",
    "teta= np.array([[teta1],[teta2]])\r\n",
    "tetadot = np.array([[0], [0]])\r\n"
   ],
   "outputs": [],
   "metadata": {}
  },
  {
   "cell_type": "markdown",
   "source": [
    "## Kalkulasi Inersia"
   ],
   "metadata": {}
  },
  {
   "cell_type": "code",
   "execution_count": 30,
   "source": [
    "i1 = m1*(L1**2)\r\n",
    "i2 = m2*(L2**2)\r\n"
   ],
   "outputs": [],
   "metadata": {}
  },
  {
   "cell_type": "markdown",
   "source": [
    "## Posisi Garis dan Pendulum"
   ],
   "metadata": {}
  },
  {
   "cell_type": "code",
   "execution_count": 13,
   "source": [
    "def pos():\r\n",
    "    global L1, L2, teta\r\n",
    "    pos_garis = np.array([[[0, 0],\r\n",
    "                           [L1*np.sin(teta[0,0]), (-L1*np.cos(teta[0,0]))]],\r\n",
    "                          [[L1*np.sin(teta[0,0]), -L1*np.cos(teta[0,0])],\r\n",
    "                           [L1*np.sin(teta[0,0])+L2*np.sin(teta[1,0]), -(L1*np.cos(teta[0,0])+L2*np.cos(teta[1,0]))]]])\r\n",
    "    pos_massa = np.array([[1/2*L1*np.sin(teta[0,0]), -1/2*L1*np.cos(teta[0,0])],\r\n",
    "                          [L1*np.sin(teta[0,0])+1/2*L2*np.sin(teta[1,0]), -(L1*np.cos(teta[0,0])+1/2*L2*np.cos(teta[1,0]))]])\r\n",
    "    return pos_garis, pos_massa\r\n"
   ],
   "outputs": [],
   "metadata": {}
  },
  {
   "cell_type": "markdown",
   "source": [
    "## Fungsi Pendulum"
   ],
   "metadata": {}
  },
  {
   "cell_type": "code",
   "execution_count": 49,
   "source": [
    "def inverse(m):\r\n",
    "    determinant = m[0][0]*m[1][1]-m[0][1]*m[1][0]\r\n",
    "    # special case for 2x2 matrix:\r\n",
    "    return np.array([[m[1][1], -1*m[0][1]],\r\n",
    "                     [-1*m[1][0], m[0][0]]])/determinant\r\n",
    "\r\n",
    "\r\n",
    "def pendulum(teta,tetadot):\r\n",
    "    global m1, m2, L1, L2, i1, i2\r\n",
    "    g = 9.8\r\n",
    "    tau = np.array([[0], [0]])\r\n",
    "    M = np.array([[(1/4*m1+m2)*(L1**2)+i1, 1/2*m2*L1*L2*np.cos(teta[0,0]-teta[1,0])],\r\n",
    "                 [1/2*m2*L1*L2*np.cos(teta[0,0]-teta[1,0]), 1/4*m2*(L2**2)+i2]])\r\n",
    "    Minv = inverse(M)\r\n",
    "    matrix1 = np.dot(Minv, tau)\r\n",
    "    # print(matrix1.shape)\r\n",
    "\r\n",
    "    C = np.array([[1/2*m2*L1*L2*np.sin(teta[0,0]-teta[1,0])*tetadot[1,0], -1/2*m2*L1*L2*np.sin(teta[0,0]-teta[1,0])*(tetadot[0,0]-tetadot[1,0])],\r\n",
    "                 [-1/2*m2*L1*L2*np.sin(teta[0,0]-teta[1,0])*(tetadot[0,0]-tetadot[1,0]), -1/2*m2*L1*L2*np.sin(teta[0,0]-teta[1,0])*tetadot[0,0]]])\r\n",
    "    A = np.dot(Minv, C)\r\n",
    "    matrix2 = np.dot(A, tetadot)\r\n",
    "    # print(matrix2.shape)\r\n",
    "\r\n",
    "    G = np.array([[(1/2*m1+m2)*g*L1*np.sin(teta[0,0])],\r\n",
    "                  [1/2*m2*g*L2*np.sin(teta[1,0])]])\r\n",
    "    matrix3 = np.dot(Minv, G)\r\n",
    "    # print(matrix3.shape)\r\n",
    "\r\n",
    "    return matrix1-matrix2-matrix3\r\n"
   ],
   "outputs": [],
   "metadata": {}
  },
  {
   "cell_type": "markdown",
   "source": [
    "## Fungsi Runge Kutta"
   ],
   "metadata": {}
  },
  {
   "cell_type": "code",
   "execution_count": 51,
   "source": [
    "def rungekuttaupdate(step):\r\n",
    "    global teta,tetadot\r\n",
    "    tetadotdot = pendulum(teta,tetadot)\r\n",
    "    k1 = step/2*tetadotdot\r\n",
    "    k2 = step/2*pendulum(teta+(step/2)*(tetadot+k1/2),tetadot+k1)\r\n",
    "    k3 = step/2*pendulum(teta+(step/2)*(tetadot+k1/2),tetadot+k2)\r\n",
    "    k4 = step/2*pendulum(teta+step*(tetadot+k3),tetadot+2*k3)\r\n",
    "    teta+=step*(tetadot+(k1+k2+k3)/3)\r\n",
    "    tetadot+=(k1+2*k2+2*k3+k4)/3"
   ],
   "outputs": [],
   "metadata": {}
  },
  {
   "cell_type": "markdown",
   "source": [
    "## Animasi"
   ],
   "metadata": {}
  },
  {
   "cell_type": "code",
   "execution_count": 52,
   "source": [
    "def plotanimation(step):\r\n",
    "    "
   ],
   "outputs": [
    {
     "output_type": "error",
     "ename": "SyntaxError",
     "evalue": "unexpected EOF while parsing (<ipython-input-52-d01d2106b872>, line 2)",
     "traceback": [
      "\u001b[1;36m  File \u001b[1;32m\"<ipython-input-52-d01d2106b872>\"\u001b[1;36m, line \u001b[1;32m2\u001b[0m\n\u001b[1;33m    \u001b[0m\n\u001b[1;37m    ^\u001b[0m\n\u001b[1;31mSyntaxError\u001b[0m\u001b[1;31m:\u001b[0m unexpected EOF while parsing\n"
     ]
    }
   ],
   "metadata": {}
  },
  {
   "cell_type": "code",
   "execution_count": null,
   "source": [],
   "outputs": [],
   "metadata": {}
  }
 ],
 "metadata": {
  "orig_nbformat": 4,
  "language_info": {
   "name": "python"
  }
 },
 "nbformat": 4,
 "nbformat_minor": 2
}