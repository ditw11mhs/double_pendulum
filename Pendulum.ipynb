{
 "cells": [
  {
   "cell_type": "code",
   "execution_count": 5,
   "source": [
    "import numpy as np\r\n",
    "import matplotlib.pyplot as plt"
   ],
   "outputs": [],
   "metadata": {}
  },
  {
   "cell_type": "markdown",
   "source": [
    "## Input Data"
   ],
   "metadata": {}
  },
  {
   "cell_type": "code",
   "execution_count": 13,
   "source": [
    "m1 = float(input(\"Massa Pendulum 1: \"))\r\n",
    "m2 = float(input(\"Massa Pendulum 2: \"))\r\n",
    "L1 = float(input(\"Panjang Tali 1: \"))\r\n",
    "L2 = float(input(\"Panjang Tali 2: \"))\r\n",
    "teta1 = float(input(\"Sudut Pendulum 1: \"))\r\n",
    "teta2 = float(input(\"Sudut Pendulum 2: \"))\r\n",
    "dt = float(input(\"Step Size: \"))\r\n"
   ],
   "outputs": [],
   "metadata": {}
  },
  {
   "cell_type": "markdown",
   "source": [
    "## Kalkulasi Inersia"
   ],
   "metadata": {}
  },
  {
   "cell_type": "code",
   "execution_count": 14,
   "source": [
    "i1 = m1*(L1**2)\r\n",
    "i2 = m2*(L2**2)"
   ],
   "outputs": [],
   "metadata": {}
  },
  {
   "cell_type": "markdown",
   "source": [
    "## Posisi Garis dan Pendulum"
   ],
   "metadata": {}
  },
  {
   "cell_type": "code",
   "execution_count": 26,
   "source": [
    "pos_garis = np.array([[[0, 0],\r\n",
    "                       [L1*np.sin(teta1), (-L1*np.cos(teta1))]],\r\n",
    "                      [[L1*np.sin(teta1), -L1*np.cos(teta1)],\r\n",
    "                      [L1*np.sin(teta1)+L2*np.sin(teta2), -(L1*np.cos(teta1)+L2*np.cos(teta2))]]])\r\n",
    "pos_massa = np.array([[1/2*L1*np.sin(teta1), -1/2*L1*np.cos(teta1)],\r\n",
    "                      [L1*np.sin(teta1)+1/2*L2*np.sin(teta2), -(L1*np.cos(teta1)+1/2*L2*np.cos(teta2))]])\r\n"
   ],
   "outputs": [],
   "metadata": {}
  },
  {
   "cell_type": "code",
   "execution_count": 30,
   "source": [],
   "outputs": [
    {
     "output_type": "execute_result",
     "data": {
      "text/plain": [
       "array([ 0.84147098, -0.54030231])"
      ]
     },
     "metadata": {},
     "execution_count": 30
    }
   ],
   "metadata": {}
  },
  {
   "cell_type": "code",
   "execution_count": null,
   "source": [],
   "outputs": [],
   "metadata": {}
  }
 ],
 "metadata": {
  "orig_nbformat": 4,
  "language_info": {
   "name": "python"
  }
 },
 "nbformat": 4,
 "nbformat_minor": 2
}