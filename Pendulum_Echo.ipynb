{
 "cells": [
  {
   "cell_type": "code",
   "execution_count": 85,
   "source": [
    "import numpy as np\r\n",
    "import matplotlib.pyplot as plt\r\n",
    "import matplotlib.animation as animation"
   ],
   "outputs": [],
   "metadata": {}
  },
  {
   "cell_type": "markdown",
   "source": [
    "## Inisialisasi Data"
   ],
   "metadata": {}
  },
  {
   "cell_type": "code",
   "execution_count": 86,
   "source": [
    "m1 = float(input(\"Massa Pendulum 1: \"))\r\n",
    "m2 = float(input(\"Massa Pendulum 2: \"))\r\n",
    "L1 = float(input(\"Panjang Tali 1: \"))\r\n",
    "L2 = float(input(\"Panjang Tali 2: \"))\r\n",
    "teta1 = float(input(\"Sudut Pendulum 1: \"))\r\n",
    "teta2 = float(input(\"Sudut Pendulum 2: \"))\r\n",
    "dt = float(input(\"Step Size: \"))\r\n",
    "\r\n",
    "teta = np.array([[teta1*np.pi/180], [teta2*np.pi/180]])\r\n",
    "tetadot = np.array([[0], [0]])\r\n",
    "tau = np.array([[0], [0]])\r\n",
    "i1 = m1*(L1**2)\r\n",
    "i2 = m2*(L2**2)"
   ],
   "outputs": [],
   "metadata": {}
  },
  {
   "cell_type": "markdown",
   "source": [
    "## Posisi Garis dan Pendulum"
   ],
   "metadata": {}
  },
  {
   "cell_type": "code",
   "execution_count": 87,
   "source": [
    "def pos():\r\n",
    "    global L1, L2, teta\r\n",
    "    pos_garis = np.array([[0, 0],\r\n",
    "                          [L1*np.sin(teta[0, 0]), (-L1*np.cos(teta[0, 0]))],\r\n",
    "                          [L1*np.sin(teta[0, 0])+L2*np.sin(teta[1, 0]), -(L1*np.cos(teta[0, 0])+L2*np.cos(teta[1, 0]))]])\r\n",
    "    pos_massa = np.array([[L1*np.sin(teta[0, 0])/2, -L1*np.cos(teta[0, 0])/2], \r\n",
    "                          [L1*np.sin(teta[0, 0])+L2*np.sin(teta[1, 0])/2, -(L1*np.cos(teta[0, 0])+1/2*L2*np.cos(teta[1, 0]))]])\r\n",
    "    return pos_garis, pos_massa\r\n"
   ],
   "outputs": [],
   "metadata": {}
  },
  {
   "cell_type": "markdown",
   "source": [
    "## Fungsi Pendulum"
   ],
   "metadata": {}
  },
  {
   "cell_type": "code",
   "execution_count": 88,
   "source": [
    "def inverse(m):\r\n",
    "    determinant = m[0, 0]*m[1, 1]-m[0, 1]*m[1, 0]\r\n",
    "    return np.array([[m[1, 1], -1*m[0, 1]], [-1*m[1, 0], m[0, 0]]])/determinant\r\n",
    "\r\n",
    "\r\n",
    "def pendulum(teta, tetadot):\r\n",
    "    global m1, m2, L1, L2, i1, i2, tau\r\n",
    "    g = 9.8\r\n",
    "\r\n",
    "    M = np.array([[(m1/4+m2)*(L1**2)+i1, m2*L1*L2*np.cos(teta[0, 0]-teta[1, 0])/2],\r\n",
    "                 [m2*L1*L2*np.cos(teta[0, 0]-teta[1, 0])/2, m2*(L2**2)/4+i2]])\r\n",
    "    Minv = inverse(M)\r\n",
    "\r\n",
    "    matrix1 = np.matmul(Minv, tau)\r\n",
    "\r\n",
    "    C = np.array([[m2*L1*L2*np.sin(teta[0, 0]-teta[1, 0])*tetadot[1, 0]/2, -1*m2*L1*L2*np.sin(teta[0, 0]-teta[1, 0])*(tetadot[0, 0]-tetadot[1, 0])/2],\r\n",
    "                 [-1*m2*L1*L2*np.sin(teta[0, 0]-teta[1, 0])*(tetadot[0, 0]-tetadot[1, 0])/2, -1*m2*L1*L2*np.sin(teta[0, 0]-teta[1, 0])*tetadot[0, 0]/2]])\r\n",
    "    A = np.matmul(Minv, C)\r\n",
    "    matrix2 = np.matmul(A, tetadot)\r\n",
    "\r\n",
    "    G = np.array([[((m1/2)+m2)*g*L1*np.sin(teta[0, 0])],\r\n",
    "                  [m2*g*L2*np.sin(teta[1, 0])/2]])\r\n",
    "    matrix3 = np.matmul(Minv, G)\r\n",
    "\r\n",
    "    tetadotdot = matrix1-matrix2-matrix3\r\n",
    "\r\n",
    "    return tetadotdot\r\n"
   ],
   "outputs": [],
   "metadata": {}
  },
  {
   "cell_type": "markdown",
   "source": [
    "## Fungsi Runge Kutta"
   ],
   "metadata": {}
  },
  {
   "cell_type": "code",
   "execution_count": 89,
   "source": [
    "def rungekuttaupdate():\r\n",
    "    global teta, tetadot,  dt\r\n",
    "\r\n",
    "    tetadotdot= pendulum(teta, tetadot)\r\n",
    "    k1 = dt/2*tetadotdot\r\n",
    "    k2 = dt/2*pendulum(teta+(dt/2)*(tetadot+(k1/2)), tetadot+k1)\r\n",
    "    k3 = dt/2*pendulum(teta+(dt/2)*(tetadot+k1/2), tetadot+k2)\r\n",
    "    k4 = dt/2*pendulum(teta+dt*(tetadot+k3), tetadot+2*k3)\r\n",
    "    teta = teta + dt*(tetadot+((k1+k2+k3)/3))\r\n",
    "    tetadot = tetadot + (k1+(2*k2)+(2*k3)+k4)/3\r\n"
   ],
   "outputs": [],
   "metadata": {}
  },
  {
   "cell_type": "markdown",
   "source": [
    "## Animasi"
   ],
   "metadata": {}
  },
  {
   "cell_type": "code",
   "execution_count": 92,
   "source": [
    "teta = np.array([[teta1*np.pi/180], [teta2*np.pi/180]])\r\n",
    "tetadot = np.array([[0], [0]])\r\n",
    "\r\n",
    "%matplotlib\r\n",
    "\r\n",
    "fig = plt.figure(figsize=(10, 10), constrained_layout=True)\r\n",
    "gs = fig.add_gridspec(6, 8)\r\n",
    "\r\n",
    "ax_pendulum = fig.add_subplot(gs[:, :4])\r\n",
    "ax_teta1 = fig.add_subplot(gs[0:2, 4:])\r\n",
    "ax_teta2 = fig.add_subplot(gs[2:4, 4:])\r\n",
    "ax_tetadot1 = fig.add_subplot(gs[4:6, 4:6])\r\n",
    "ax_tetadot2 = fig.add_subplot(gs[4:6, 6:8])\r\n",
    "\r\n",
    "ax_pendulum.set_title('Pendulum')\r\n",
    "ax_teta1.set_title('Teta 1')\r\n",
    "ax_teta2.set_title('Teta 2')\r\n",
    "ax_tetadot1.set_title('Tetadot 1 Terhadap Teta 1')\r\n",
    "ax_tetadot2.set_title('Tetadot 2 Terhadap Teta 2')\r\n",
    "\r\n",
    "ax_teta1.set_xlabel(\"t (s)\")\r\n",
    "ax_teta2.set_xlabel(\"t (s)\")\r\n",
    "ax_teta1.set_ylabel(\"Derajat (Radian)\")\r\n",
    "ax_teta2.set_ylabel(\"Derajat (Radian)\")\r\n",
    "\r\n",
    "pos_garis, pos_massa = pos()\r\n",
    "\r\n",
    "m_plot, = ax_pendulum.plot(pos_massa[:, 0], pos_massa[:, 1], 'bo', zorder=10)\r\n",
    "lin_plot, = ax_pendulum.plot(pos_garis[:, 0], pos_garis[:, 1], '-', zorder=5)\r\n",
    "trail_plot, = ax_pendulum.plot([], [], 'co', zorder=0, alpha=0.1)\r\n",
    "\r\n",
    "teta1_plot, = ax_teta1.plot([], [], '-')\r\n",
    "teta2_plot, = ax_teta2.plot([], [], '-')\r\n",
    "tetadot1_plot, = ax_tetadot1.plot([], [], '-')\r\n",
    "tetadot2_plot, = ax_tetadot2.plot([], [], '-')\r\n",
    "\r\n",
    "teta1_plot_list = [teta[0, 0]]\r\n",
    "teta2_plot_list = [teta[1, 0]]\r\n",
    "tetadot1_plot_list = [tetadot[0, 0]]\r\n",
    "tetadot2_plot_list = [tetadot[1, 0]]\r\n",
    "trail_list = np.array([pos_massa[0, :], pos_massa[1, :]])\r\n",
    "\r\n",
    "\r\n",
    "def init():\r\n",
    "    global L1, L2\r\n",
    "    ax_pendulum.set_xlim(-(L1+L2+0.1), (L1+L2+0.1))\r\n",
    "    ax_pendulum.set_ylim(-(L1+L2+0.1), (L1+L2+0.1))\r\n",
    "    ax_teta1.set_xlim(0, dt*10)\r\n",
    "    ax_teta1.set_ylim(-teta[0, 0], teta[0, 0])\r\n",
    "    ax_teta2.set_xlim(0, dt*10)\r\n",
    "    ax_teta2.set_ylim(-teta[1, 0], teta[1, 0])\r\n",
    "    ax_tetadot1.set_xlim(-np.pi, np.pi)\r\n",
    "    ax_tetadot1.set_ylim(-np.pi, np.pi)\r\n",
    "    ax_tetadot2.set_xlim(-np.pi, np.pi)\r\n",
    "    ax_tetadot2.set_ylim(-np.pi, np.pi)\r\n",
    "\r\n",
    "    return m_plot, lin_plot, teta1_plot, teta2_plot, tetadot1_plot, tetadot2_plot, trail_plot,\r\n",
    "\r\n",
    "\r\n",
    "def plotanimation(step):\r\n",
    "    global teta1_plot_list, teta2_plot_list, tetadot1_plot_list, tetadot2_plot_list, trail_list\r\n",
    "\r\n",
    "    for i in range(1):\r\n",
    "        rungekuttaupdate()\r\n",
    "\r\n",
    "    pos_garis, pos_massa = pos()\r\n",
    "\r\n",
    "    teta1_plot_list.append(teta[0, 0])\r\n",
    "    teta2_plot_list.append(teta[1, 0])\r\n",
    "    tetadot1_plot_list.append(tetadot[0, 0])\r\n",
    "    tetadot2_plot_list.append(tetadot[1, 0])\r\n",
    "\r\n",
    "    trail_list = np.vstack((trail_list, pos_massa))\r\n",
    "    \r\n",
    "    ax_teta1.set_xlim(0, len(teta1_plot_list)*dt+dt)\r\n",
    "    ax_teta1.set_ylim(min(teta1_plot_list), max(teta1_plot_list))\r\n",
    "\r\n",
    "    ax_teta2.set_xlim(0, len(teta2_plot_list)*dt+dt)\r\n",
    "    ax_teta2.set_ylim(min(teta2_plot_list), max(teta2_plot_list))\r\n",
    "\r\n",
    "    m_plot.set_data(pos_massa[:, 0], pos_massa[:, 1])\r\n",
    "    lin_plot.set_data(pos_garis[:, 0], pos_garis[:, 1])\r\n",
    "    trail_plot.set_data(trail_list[:, 0], trail_list[:, 1])\r\n",
    "    teta1_plot.set_data(\r\n",
    "        np.arange(0, len(teta1_plot_list)*dt, dt), teta1_plot_list)\r\n",
    "    teta2_plot.set_data(\r\n",
    "        np.arange(0, len(teta2_plot_list)*dt, dt), teta2_plot_list)\r\n",
    "    \r\n",
    "    tetadot1_plot.set_data(teta1_plot_list, tetadot1_plot_list)\r\n",
    "    tetadot2_plot.set_data(teta2_plot_list, tetadot2_plot_list)\r\n",
    "\r\n",
    "    return m_plot, lin_plot, teta1_plot, teta2_plot, tetadot1_plot, tetadot2_plot, trail_plot,\r\n",
    "\r\n",
    "\r\n",
    "ani = animation.FuncAnimation(fig, plotanimation, frames=np.arange(\r\n",
    "    0, 100, dt), interval=0, init_func=init, blit=False, repeat=False)\r\n",
    "\r\n",
    "plt.show\r\n"
   ],
   "outputs": [
    {
     "output_type": "stream",
     "name": "stdout",
     "text": [
      "Using matplotlib backend: Qt5Agg\n"
     ]
    },
    {
     "output_type": "execute_result",
     "data": {
      "text/plain": [
       "<function matplotlib.pyplot.show(*, block=None)>"
      ]
     },
     "metadata": {},
     "execution_count": 92
    },
    {
     "output_type": "stream",
     "name": "stderr",
     "text": [
      "Traceback (most recent call last):\n",
      "  File \"C:\\Users\\adity\\anaconda3\\lib\\site-packages\\matplotlib\\backends\\backend_qt5.py\", line 480, in _draw_idle\n",
      "    self.draw()\n",
      "  File \"C:\\Users\\adity\\anaconda3\\lib\\site-packages\\matplotlib\\backends\\backend_agg.py\", line 407, in draw\n",
      "    self.figure.draw(self.renderer)\n",
      "  File \"C:\\Users\\adity\\anaconda3\\lib\\site-packages\\matplotlib\\artist.py\", line 41, in draw_wrapper\n",
      "    return draw(artist, renderer, *args, **kwargs)\n",
      "  File \"C:\\Users\\adity\\anaconda3\\lib\\site-packages\\matplotlib\\figure.py\", line 1863, in draw\n",
      "    mimage._draw_list_compositing_images(\n",
      "  File \"C:\\Users\\adity\\anaconda3\\lib\\site-packages\\matplotlib\\image.py\", line 131, in _draw_list_compositing_images\n",
      "    a.draw(renderer)\n",
      "  File \"C:\\Users\\adity\\anaconda3\\lib\\site-packages\\matplotlib\\artist.py\", line 41, in draw_wrapper\n",
      "    return draw(artist, renderer, *args, **kwargs)\n",
      "  File \"C:\\Users\\adity\\anaconda3\\lib\\site-packages\\matplotlib\\cbook\\deprecation.py\", line 411, in wrapper\n",
      "    return func(*inner_args, **inner_kwargs)\n",
      "  File \"C:\\Users\\adity\\anaconda3\\lib\\site-packages\\matplotlib\\axes\\_base.py\", line 2747, in draw\n",
      "    mimage._draw_list_compositing_images(renderer, self, artists)\n",
      "  File \"C:\\Users\\adity\\anaconda3\\lib\\site-packages\\matplotlib\\image.py\", line 131, in _draw_list_compositing_images\n",
      "    a.draw(renderer)\n",
      "  File \"C:\\Users\\adity\\anaconda3\\lib\\site-packages\\matplotlib\\artist.py\", line 41, in draw_wrapper\n",
      "    return draw(artist, renderer, *args, **kwargs)\n",
      "  File \"C:\\Users\\adity\\anaconda3\\lib\\site-packages\\matplotlib\\lines.py\", line 742, in draw\n",
      "    self.recache()\n",
      "  File \"C:\\Users\\adity\\anaconda3\\lib\\site-packages\\matplotlib\\lines.py\", line 662, in recache\n",
      "    self._xy = np.column_stack(np.broadcast_arrays(x, y)).astype(float)\n",
      "  File \"<__array_function__ internals>\", line 5, in broadcast_arrays\n",
      "  File \"C:\\Users\\adity\\anaconda3\\lib\\site-packages\\numpy\\lib\\stride_tricks.py\", line 538, in broadcast_arrays\n",
      "    shape = _broadcast_shape(*args)\n",
      "  File \"C:\\Users\\adity\\anaconda3\\lib\\site-packages\\numpy\\lib\\stride_tricks.py\", line 420, in _broadcast_shape\n",
      "    b = np.broadcast(*args[:32])\n",
      "ValueError: shape mismatch: objects cannot be broadcast to a single shape\n"
     ]
    }
   ],
   "metadata": {}
  },
  {
   "cell_type": "code",
   "execution_count": null,
   "source": [],
   "outputs": [],
   "metadata": {}
  }
 ],
 "metadata": {
  "orig_nbformat": 4,
  "language_info": {
   "name": "python",
   "version": "3.8.10",
   "mimetype": "text/x-python",
   "codemirror_mode": {
    "name": "ipython",
    "version": 3
   },
   "pygments_lexer": "ipython3",
   "nbconvert_exporter": "python",
   "file_extension": ".py"
  },
  "kernelspec": {
   "name": "python3",
   "display_name": "Python 3.8.10 64-bit ('base': conda)"
  },
  "interpreter": {
   "hash": "c7118b647d8aee2f8c09effbe5401c08cfa1b0b54a052ea455fdde2a36cad5c3"
  }
 },
 "nbformat": 4,
 "nbformat_minor": 2
}